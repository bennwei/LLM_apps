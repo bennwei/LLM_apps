{
 "cells": [
  {
   "attachments": {},
   "cell_type": "markdown",
   "metadata": {},
   "source": [
    "# Quickstart of trying LangChain"
   ]
  },
  {
   "cell_type": "code",
   "execution_count": 26,
   "metadata": {},
   "outputs": [],
   "source": [
    "from langchain.llms import GPT4All\n",
    "from langchain import PromptTemplate, LLMChain\n",
    "from langchain.callbacks.streaming_stdout import StreamingStdOutCallbackHandler\n",
    "from dotenv import load_dotenv\n",
    "import os"
   ]
  },
  {
   "cell_type": "code",
   "execution_count": 16,
   "metadata": {},
   "outputs": [
    {
     "data": {
      "text/plain": [
       "True"
      ]
     },
     "execution_count": 16,
     "metadata": {},
     "output_type": "execute_result"
    }
   ],
   "source": [
    "load_dotenv()"
   ]
  },
  {
   "cell_type": "code",
   "execution_count": 17,
   "metadata": {},
   "outputs": [
    {
     "name": "stdout",
     "output_type": "stream",
     "text": [
      "/Users/ericliao/Desktop/projects/LLM_apps/llm-apps/src/privateGPT/models/ggml-gpt4all-j-v1.3-groovy.bin\n"
     ]
    }
   ],
   "source": [
    "print(os.environ.get('MODEL_PATH'))"
   ]
  },
  {
   "cell_type": "markdown",
   "metadata": {},
   "source": [
    "### LLMs: Get predictions from a language model, choose GPT4all\n",
    "\n",
    "GitHub:nomic-ai/gpt4all an ecosystem of open-source chatbots trained on a massive collections of clean assistant data including code, stories and dialogue.\n",
    "\n",
    "This example goes over how to use LangChain to interact with GPT4All models."
   ]
  },
  {
   "cell_type": "code",
   "execution_count": 31,
   "metadata": {},
   "outputs": [
    {
     "name": "stdout",
     "output_type": "stream",
     "text": [
      "Found model file at  /Users/ericliao/Desktop/projects/LLM_apps/llm-apps/src/privateGPT/models/ggml-gpt4all-j-v1.3-groovy.bin\n",
      "gptj_model_load: loading model from '/Users/ericliao/Desktop/projects/LLM_apps/llm-apps/src/privateGPT/models/ggml-gpt4all-j-v1.3-groovy.bin' - please wait ...\n",
      "gptj_model_load: n_vocab = 50400\n",
      "gptj_model_load: n_ctx   = 2048\n",
      "gptj_model_load: n_embd  = 4096\n",
      "gptj_model_load: n_head  = 16\n",
      "gptj_model_load: n_layer = 28\n",
      "gptj_model_load: n_rot   = 64\n",
      "gptj_model_load: f16     = 2\n",
      "gptj_model_load: ggml ctx size = 5401.45 MB\n",
      "gptj_model_load: kv self size  =  896.00 MB\n",
      "gptj_model_load: ................................... done\n",
      "gptj_model_load: model size =  3609.38 MB / num tensors = 285\n"
     ]
    }
   ],
   "source": [
    "\n",
    "# Callbacks support token-wise streaming\n",
    "callbacks = [StreamingStdOutCallbackHandler()]\n",
    "\n",
    "# Verbose is required to pass to the callback manager\n",
    "llm = GPT4All(model=os.environ.get('MODEL_PATH'), n_ctx=512, n_threads=8, callbacks=callbacks, verbose=True)\n",
    "\n",
    "# If you want to use a custom model add the backend parameter\n",
    "# Check https://docs.gpt4all.io/gpt4all_python.html for supported backends\n",
    "# llm = GPT4All(model=os.environ.get('MODEL_PATH'), backend=\"gptj\", callbacks=callbacks, verbose=True)\n"
   ]
  },
  {
   "cell_type": "code",
   "execution_count": 20,
   "metadata": {},
   "outputs": [
    {
     "name": "stdout",
     "output_type": "stream",
     "text": [
      ".\n"
     ]
    },
    {
     "data": {
      "text/plain": [
       "'.'"
      ]
     },
     "execution_count": 20,
     "metadata": {},
     "output_type": "execute_result"
    }
   ],
   "source": [
    "# do some prediction\n",
    "llm.predict(\"The quick brown fox jumps over the lazy dog\")"
   ]
  },
  {
   "cell_type": "code",
   "execution_count": 33,
   "metadata": {},
   "outputs": [
    {
     "name": "stdout",
     "output_type": "stream",
     "text": [
      "\n",
      "In the land of Camelot, there lived an orphan boy named Arthur. He had to fend for himself after his parents passed away and he was left with no one else in this world but himself! His heart yearned so much that someone would take care of him or help him find happiness again like a true king should do as all the other kings did have their own knights, servants who will always be loyal to them for life.\n",
      "But alas, Arthur was left alone and forgotten by his people despite being such an important figure in this kingdom. One day while wandering through Camelot��s woods he came across Merlin's lair where they were busy concocting potions of all sorts like magic spells! \n",
      "\n",
      " After observing the lab and talking with Merlyn for a few minutes, Arthur knew what to do - He went back into his forest abode in search of gold. The people who had abandoned him didn��t care that he was an orphan anymore because they thought no one could beat them or steal their lands! \n",
      "Arthur started digging deep and soon found the treasure chest buried beneath a pile of dirt which made Merlin's eyes widen, seeing Arthur finally finding what all his hard work would lead to. He felt so fulfilled as if this gold was worth\n",
      "\n",
      "In the land of Camelot, there lived an orphan boy named Arthur. He had to fend for himself after his parents passed away and he was left with no one else in this world but himself! His heart yearned so much that someone would take care of him or help him find happiness again like a true king should do as all the other kings did have their own knights, servants who will always be loyal to them for life.\n",
      "But alas, Arthur was left alone and forgotten by his people despite being such an important figure in this kingdom. One day while wandering through Camelot��s woods he came across Merlin's lair where they were busy concocting potions of all sorts like magic spells! \n",
      "\n",
      " After observing the lab and talking with Merlyn for a few minutes, Arthur knew what to do - He went back into his forest abode in search of gold. The people who had abandoned him didn��t care that he was an orphan anymore because they thought no one could beat them or steal their lands! \n",
      "Arthur started digging deep and soon found the treasure chest buried beneath a pile of dirt which made Merlin's eyes widen, seeing Arthur finally finding what all his hard work would lead to. He felt so fulfilled as if this gold was worth"
     ]
    }
   ],
   "source": [
    "# Simplest invocation\n",
    "response = llm(\"Once upon a time, \")\n",
    "# print(response)"
   ]
  },
  {
   "cell_type": "markdown",
   "metadata": {},
   "source": [
    "#### Chat Models"
   ]
  },
  {
   "cell_type": "code",
   "execution_count": 35,
   "metadata": {},
   "outputs": [
    {
     "ename": "TypeError",
     "evalue": "Can't instantiate abstract class BaseChatModel with abstract methods _agenerate, _generate, _llm_type",
     "output_type": "error",
     "traceback": [
      "\u001b[0;31m---------------------------------------------------------------------------\u001b[0m",
      "\u001b[0;31mTypeError\u001b[0m                                 Traceback (most recent call last)",
      "Cell \u001b[0;32mIn[35], line 8\u001b[0m\n\u001b[1;32m      1\u001b[0m \u001b[39mfrom\u001b[39;00m \u001b[39mlangchain\u001b[39;00m\u001b[39m.\u001b[39;00m\u001b[39mchat_models\u001b[39;00m\u001b[39m.\u001b[39;00m\u001b[39mbase\u001b[39;00m \u001b[39mimport\u001b[39;00m BaseChatModel\n\u001b[1;32m      2\u001b[0m \u001b[39mfrom\u001b[39;00m \u001b[39mlangchain\u001b[39;00m\u001b[39m.\u001b[39;00m\u001b[39mschema\u001b[39;00m \u001b[39mimport\u001b[39;00m (\n\u001b[1;32m      3\u001b[0m     AIMessage,\n\u001b[1;32m      4\u001b[0m     HumanMessage,\n\u001b[1;32m      5\u001b[0m     SystemMessage\n\u001b[1;32m      6\u001b[0m )\n\u001b[0;32m----> 8\u001b[0m chat \u001b[39m=\u001b[39m BaseChatModel(verbose\u001b[39m=\u001b[39;49m\u001b[39mTrue\u001b[39;49;00m)\n\u001b[1;32m      9\u001b[0m chat\u001b[39m.\u001b[39mpredict_messages([HumanMessage(content\u001b[39m=\u001b[39m\u001b[39m\"\u001b[39m\u001b[39mTranslate this sentence from English to French. I love programming.\u001b[39m\u001b[39m\"\u001b[39m)])\n",
      "\u001b[0;31mTypeError\u001b[0m: Can't instantiate abstract class BaseChatModel with abstract methods _agenerate, _generate, _llm_type"
     ]
    }
   ],
   "source": [
    "from langchain.chat_models.base import BaseChatModel\n",
    "from langchain.schema import (\n",
    "    AIMessage,\n",
    "    HumanMessage,\n",
    "    SystemMessage\n",
    ")\n",
    "\n",
    "chat = BaseChatModel(verbose=True)\n",
    "chat.predict_messages([HumanMessage(content=\"Translate this sentence from English to French. I love programming.\")])"
   ]
  },
  {
   "cell_type": "markdown",
   "metadata": {},
   "source": []
  },
  {
   "cell_type": "code",
   "execution_count": null,
   "metadata": {},
   "outputs": [],
   "source": []
  },
  {
   "cell_type": "code",
   "execution_count": null,
   "metadata": {},
   "outputs": [],
   "source": []
  },
  {
   "cell_type": "code",
   "execution_count": 36,
   "metadata": {},
   "outputs": [
    {
     "name": "stdout",
     "output_type": "stream",
     "text": [
      " \n",
      "A possible answer could be \"Sparks\" - the color sparks represent energy and vitality, which aligns well with your goal of creating high-quality products. Another option is to go more literal in naming their brand: you can call it something like Cottony or Fleece Footwear Co., using descriptive names that fit a particular type (or style) for socks made from cotton fabric.\n",
      " \n",
      "A possible answer could be \"Sparks\" - the color sparks represent energy and vitality, which aligns well with your goal of creating high-quality products. Another option is to go more literal in naming their brand: you can call it something like Cottony or Fleece Footwear Co., using descriptive names that fit a particular type (or style) for socks made from cotton fabric."
     ]
    },
    {
     "data": {
      "text/plain": [
       "' \\nA possible answer could be \"Sparks\" - the color sparks represent energy and vitality, which aligns well with your goal of creating high-quality products. Another option is to go more literal in naming their brand: you can call it something like Cottony or Fleece Footwear Co., using descriptive names that fit a particular type (or style) for socks made from cotton fabric.'"
      ]
     },
     "execution_count": 36,
     "metadata": {},
     "output_type": "execute_result"
    }
   ],
   "source": [
    "llm(\"What would be a good company name for a company that makes colorful socks?\")"
   ]
  },
  {
   "cell_type": "markdown",
   "metadata": {},
   "source": [
    "#### Prompt templates"
   ]
  },
  {
   "cell_type": "code",
   "execution_count": 27,
   "metadata": {},
   "outputs": [],
   "source": [
    "template = \"\"\"Question: {question}\n",
    "\n",
    "Answer: Let's think step by step.\n",
    "\n",
    "\"\"\"\n",
    "\n",
    "promt = PromptTemplate(template=template, input_variables=[\"question\"])"
   ]
  },
  {
   "cell_type": "markdown",
   "metadata": {},
   "source": [
    "#### Chains"
   ]
  },
  {
   "cell_type": "code",
   "execution_count": 28,
   "metadata": {},
   "outputs": [],
   "source": [
    "llm_chain = LLMChain(prompt=promt, llm=llm)"
   ]
  },
  {
   "cell_type": "code",
   "execution_count": 32,
   "metadata": {},
   "outputs": [
    {
     "name": "stdout",
     "output_type": "stream",
     "text": [
      "  * First, let us consider what kind of business this is - manufacturing or selling goods such as apparel (socks) and accessories related to sports teams like football (NFL). It seems that they have a lot going on with their socks! And while Justin Bieber was born in 2002 which means he would be about 15-16 years old, so it wouldn't affect our answer.\n",
      "  * The Super Bowl is held annually by the National Football League( NFL) and has been played every year since 1967 (except for 1970). So to sum up - this question doesn��t have a clear connection with Justin Bieber's birth date or his sports career as he didn't play football before turning pro.\n",
      "  * Now that we know what is the primary purpose of our inquiry, let us focus on finding an answer using more specific keywords: NFL Super Bowl winning teams in 2003 (when Justin was 15-16 years old). So there are two options - Kansas City Chiefs and New England Patriots; both won during this year.\n",
      "  * In case you're curious how the question came up or if any of these answers were a part of your thought process, we'll leave it for further discussion as well!\n"
     ]
    },
    {
     "data": {
      "text/plain": [
       "\"  * First, let us consider what kind of business this is - manufacturing or selling goods such as apparel (socks) and accessories related to sports teams like football (NFL). It seems that they have a lot going on with their socks! And while Justin Bieber was born in 2002 which means he would be about 15-16 years old, so it wouldn't affect our answer.\\n  * The Super Bowl is held annually by the National Football League( NFL) and has been played every year since 1967 (except for 1970). So to sum up - this question doesn��t have a clear connection with Justin Bieber's birth date or his sports career as he didn't play football before turning pro.\\n  * Now that we know what is the primary purpose of our inquiry, let us focus on finding an answer using more specific keywords: NFL Super Bowl winning teams in 2003 (when Justin was 15-16 years old). So there are two options - Kansas City Chiefs and New England Patriots; both won during this year.\\n  * In case you're curious how the question came up or if any of these answers were a part of your thought process, we'll leave it for further discussion as well!\""
      ]
     },
     "execution_count": 32,
     "metadata": {},
     "output_type": "execute_result"
    }
   ],
   "source": [
    "question = \"What NFL team won the Super Bowl in the year Justin Bieber was born?\"\n",
    "\n",
    "llm_chain.run(question)"
   ]
  },
  {
   "cell_type": "code",
   "execution_count": 30,
   "metadata": {},
   "outputs": [
    {
     "name": "stdout",
     "output_type": "stream",
     "text": [
      "  * First let us consider what kind of business this is - manufacturing or selling goods such as apparel (socks) and accessories related to sports teams like football (NFL). It seems that they have a lot going on with their socks! And while Justin Bieber was born in 2002 which means he would be about 15-16 years old, so it wouldn't affect our answer.\n",
      "  * The Super Bowl is held annually by the National Football League( NFL) and has been played every year since 1967 (except for 1970). So to sum up - this question doesn��t have a clear connection with Justin Bieber's birth\n"
     ]
    },
    {
     "data": {
      "text/plain": [
       "\"  * First let us consider what kind of business this is - manufacturing or selling goods such as apparel (socks) and accessories related to sports teams like football (NFL). It seems that they have a lot going on with their socks! And while Justin Bieber was born in 2002 which means he would be about 15-16 years old, so it wouldn't affect our answer.\\n  * The Super Bowl is held annually by the National Football League( NFL) and has been played every year since 1967 (except for 1970). So to sum up - this question doesn��t have a clear connection with Justin Bieber's birth\""
      ]
     },
     "execution_count": 30,
     "metadata": {},
     "output_type": "execute_result"
    }
   ],
   "source": [
    "question2 = \"What would be a good company name for a company that makes colorful socks?\"\n",
    "\n",
    "llm_chain.run(question2)"
   ]
  },
  {
   "cell_type": "markdown",
   "metadata": {},
   "source": [
    "#### Agents\n",
    "\n",
    "Agents use a language model to determine which actions to take and in what order. Agents are given access to tools, and they repeatedly choose a tool, run the tool, and observe the output until they come up with a final answer.\n"
   ]
  },
  {
   "cell_type": "code",
   "execution_count": null,
   "metadata": {},
   "outputs": [],
   "source": []
  }
 ],
 "metadata": {
  "kernelspec": {
   "display_name": "llm-apps",
   "language": "python",
   "name": "python3"
  },
  "language_info": {
   "codemirror_mode": {
    "name": "ipython",
    "version": 3
   },
   "file_extension": ".py",
   "mimetype": "text/x-python",
   "name": "python",
   "nbconvert_exporter": "python",
   "pygments_lexer": "ipython3",
   "version": "3.11.4"
  },
  "orig_nbformat": 4
 },
 "nbformat": 4,
 "nbformat_minor": 2
}
